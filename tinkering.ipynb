{
 "cells": [
  {
   "cell_type": "code",
   "execution_count": 1,
   "metadata": {},
   "outputs": [
    {
     "name": "stdout",
     "output_type": "stream",
     "text": [
      "Type(kind=<Kind.ARRAY: 'Array'>, typ=Type(kind=<Kind.BOOL: 'Bool'>, typ=None, size=None, width=None, c_int_type=None, parameters=None, return_type=None, tag=None, components=None), size=3, width=None, c_int_type=None, parameters=None, return_type=None, tag=None, components=None)\n"
     ]
    },
    {
     "data": {
      "text/plain": [
       "Symbol(name='__CPROVER__start', location={'id': 'nil'}, type={'id': 'code', 'namedSub': {'parameters': {'id': ''}, 'return_type': {'id': 'empty'}}}, value={'id': 'code', 'namedSub': {'statement': {'id': 'block'}, 'type': {'id': 'empty'}}, 'sub': [{'id': 'code', 'namedSub': {'label': {'id': '__CPROVER_HIDE'}, 'statement': {'id': 'label'}, 'type': {'id': 'empty'}}, 'sub': [{'id': 'code', 'namedSub': {'statement': {'id': 'skip'}, 'type': {'id': 'empty'}}}]}, {'id': 'code', 'namedSub': {'#source_location': {'id': '', 'namedSub': {'file': {'id': '/tmp/tmphjpklzbz.c'}, 'function': {'id': ''}, 'line': {'id': '2'}, 'working_directory': {'id': '/home/philip/Documents/python/pybmc'}}}, 'statement': {'id': 'function_call'}, 'type': {'id': 'empty'}}, 'sub': [{'id': 'nil'}, {'id': 'symbol', 'namedSub': {'#source_location': {'id': '', 'namedSub': {'file': {'id': '<built-in-additions>'}, 'function': {'id': ''}, 'line': {'id': '24'}, 'working_directory': {'id': '/home/philip/Documents/python/pybmc'}}}, 'identifier': {'id': '__CPROVER_initialize'}, 'type': {'id': 'code', 'namedSub': {'#source_location': {'id': '', 'namedSub': {'file': {'id': '<built-in-additions>'}, 'function': {'id': ''}, 'line': {'id': '24'}, 'working_directory': {'id': '/home/philip/Documents/python/pybmc'}}}, 'parameters': {'id': ''}, 'return_type': {'id': 'empty', 'namedSub': {'#source_location': {'id': '', 'namedSub': {'file': {'id': '<built-in-additions>'}, 'function': {'id': ''}, 'line': {'id': '24'}, 'working_directory': {'id': '/home/philip/Documents/python/pybmc'}}}}}}}}}, {'id': 'arguments'}]}, {'id': 'code', 'namedSub': {'statement': {'id': 'assume'}, 'type': {'id': 'empty'}}, 'sub': [{'id': '>=', 'namedSub': {'type': {'id': 'bool'}}, 'sub': [{'id': 'symbol', 'namedSub': {'identifier': {'id': \"argc'\"}, 'type': {'id': 'signedbv', 'namedSub': {'#c_type': {'id': 'signed_int'}, 'width': {'id': '32'}}}}}, {'id': 'constant', 'namedSub': {'type': {'id': 'signedbv', 'namedSub': {'#c_type': {'id': 'signed_int'}, 'width': {'id': '32'}}}, 'value': {'id': '0'}}}]}]}, {'id': 'code', 'namedSub': {'statement': {'id': 'input'}, 'type': {'id': 'empty'}}, 'sub': [{'id': 'address_of', 'namedSub': {'type': {'id': 'pointer', 'namedSub': {'width': {'id': '64'}}, 'sub': [{'id': 'signedbv', 'namedSub': {'#c_type': {'id': 'char'}, 'width': {'id': '8'}}}]}}, 'sub': [{'id': 'index', 'namedSub': {'type': {'id': 'signedbv', 'namedSub': {'#c_type': {'id': 'char'}, 'width': {'id': '8'}}}}, 'sub': [{'id': 'string_constant', 'namedSub': {'type': {'id': 'array', 'namedSub': {'size': {'id': 'constant', 'namedSub': {'type': {'id': 'signedbv', 'namedSub': {'#c_type': {'id': 'signed_long_int'}, 'width': {'id': '64'}}}, 'value': {'id': '5'}}}}, 'sub': [{'id': 'signedbv', 'namedSub': {'#c_type': {'id': 'char'}, 'width': {'id': '8'}}}]}, 'value': {'id': 'argc'}}}, {'id': 'constant', 'namedSub': {'type': {'id': 'signedbv', 'namedSub': {'#c_type': {'id': 'signed_long_int'}, 'width': {'id': '64'}}}, 'value': {'id': '0'}}}]}]}, {'id': 'symbol', 'namedSub': {'identifier': {'id': \"argc'\"}, 'type': {'id': 'signedbv', 'namedSub': {'#c_type': {'id': 'signed_int'}, 'width': {'id': '32'}}}}}]}, {'id': 'code', 'namedSub': {'#source_location': {'id': '', 'namedSub': {'pragma': {'id': '', 'namedSub': {'disable:bounds-check': {'id': ''}}}}}, 'statement': {'id': 'assign'}, 'type': {'id': 'empty'}}, 'sub': [{'id': 'index', 'namedSub': {'type': {'id': 'pointer', 'namedSub': {'width': {'id': '64'}}, 'sub': [{'id': 'signedbv', 'namedSub': {'#c_type': {'id': 'char'}, 'width': {'id': '8'}}}]}}, 'sub': [{'id': 'symbol', 'namedSub': {'identifier': {'id': \"argv'\"}, 'type': {'id': 'array', 'namedSub': {'size': {'id': '+', 'namedSub': {'type': {'id': 'signedbv', 'namedSub': {'#c_type': {'id': 'signed_int'}, 'width': {'id': '32'}}}}, 'sub': [{'id': 'symbol', 'namedSub': {'identifier': {'id': \"argc'\"}, 'type': {'id': 'signedbv', 'namedSub': {'#c_type': {'id': 'signed_int'}, 'width': {'id': '32'}}}}}, {'id': 'constant', 'namedSub': {'type': {'id': 'signedbv', 'namedSub': {'#c_type': {'id': 'signed_int'}, 'width': {'id': '32'}}}, 'value': {'id': '1'}}}]}}, 'sub': [{'id': 'pointer', 'namedSub': {'width': {'id': '64'}}, 'sub': [{'id': 'signedbv', 'namedSub': {'#c_type': {'id': 'char'}, 'width': {'id': '8'}}}]}]}}}, {'id': 'typecast', 'namedSub': {'type': {'id': 'signedbv', 'namedSub': {'#c_type': {'id': 'signed_long_int'}, 'width': {'id': '64'}}}}, 'sub': [{'id': 'symbol', 'namedSub': {'identifier': {'id': \"argc'\"}, 'type': {'id': 'signedbv', 'namedSub': {'#c_type': {'id': 'signed_int'}, 'width': {'id': '32'}}}}}]}]}, {'id': 'constant', 'namedSub': {'type': {'id': 'pointer', 'namedSub': {'width': {'id': '64'}}, 'sub': [{'id': 'signedbv', 'namedSub': {'#c_type': {'id': 'char'}, 'width': {'id': '8'}}}]}, 'value': {'id': 'NULL'}}}]}, {'id': 'code', 'namedSub': {'#source_location': {'id': '', 'namedSub': {'file': {'id': '/tmp/tmphjpklzbz.c'}, 'function': {'id': ''}, 'line': {'id': '2'}, 'working_directory': {'id': '/home/philip/Documents/python/pybmc'}}}, 'statement': {'id': 'function_call'}, 'type': {'id': 'empty'}}, 'sub': [{'id': 'symbol', 'namedSub': {'identifier': {'id': \"return'\"}, 'type': {'id': 'signedbv', 'namedSub': {'#c_type': {'id': 'signed_int'}, 'width': {'id': '32'}}}}}, {'id': 'symbol', 'namedSub': {'#source_location': {'id': '', 'namedSub': {'file': {'id': '/tmp/tmphjpklzbz.c'}, 'function': {'id': ''}, 'line': {'id': '2'}, 'working_directory': {'id': '/home/philip/Documents/python/pybmc'}}}, 'identifier': {'id': 'main'}, 'type': {'id': 'code', 'namedSub': {'#source_location': {'id': '', 'namedSub': {'file': {'id': '/tmp/tmphjpklzbz.c'}, 'function': {'id': ''}, 'line': {'id': '2'}, 'working_directory': {'id': '/home/philip/Documents/python/pybmc'}}}, 'parameters': {'id': '', 'sub': [{'id': 'parameter', 'namedSub': {'#base_name': {'id': 'argc'}, '#identifier': {'id': 'main::argc'}, '#source_location': {'id': '', 'namedSub': {'file': {'id': '/tmp/tmphjpklzbz.c'}, 'function': {'id': 'main'}, 'line': {'id': '2'}, 'working_directory': {'id': '/home/philip/Documents/python/pybmc'}}}, 'type': {'id': 'signedbv', 'namedSub': {'#c_type': {'id': 'signed_int'}, 'width': {'id': '32'}}}}}, {'id': 'parameter', 'namedSub': {'#base_name': {'id': 'argv'}, '#identifier': {'id': 'main::argv'}, '#source_location': {'id': '', 'namedSub': {'file': {'id': '/tmp/tmphjpklzbz.c'}, 'function': {'id': 'main'}, 'line': {'id': '2'}, 'working_directory': {'id': '/home/philip/Documents/python/pybmc'}}}, 'type': {'id': 'pointer', 'namedSub': {'#source_location': {'id': '', 'namedSub': {'file': {'id': '/tmp/tmphjpklzbz.c'}, 'function': {'id': 'main'}, 'line': {'id': '2'}, 'working_directory': {'id': '/home/philip/Documents/python/pybmc'}}}, 'width': {'id': '64'}}, 'sub': [{'id': 'pointer', 'namedSub': {'#source_location': {'id': '', 'namedSub': {'file': {'id': '/tmp/tmphjpklzbz.c'}, 'function': {'id': 'main'}, 'line': {'id': '2'}, 'working_directory': {'id': '/home/philip/Documents/python/pybmc'}}}, 'width': {'id': '64'}}, 'sub': [{'id': 'signedbv', 'namedSub': {'#c_type': {'id': 'char'}, 'width': {'id': '8'}}}]}]}}}]}, 'return_type': {'id': 'signedbv', 'namedSub': {'#c_type': {'id': 'signed_int'}, 'width': {'id': '32'}}}}}}}, {'id': 'arguments', 'sub': [{'id': 'symbol', 'namedSub': {'identifier': {'id': \"argc'\"}, 'type': {'id': 'signedbv', 'namedSub': {'#c_type': {'id': 'signed_int'}, 'width': {'id': '32'}}}}}, {'id': 'address_of', 'namedSub': {'type': {'id': 'pointer', 'namedSub': {'width': {'id': '64'}}, 'sub': [{'id': 'pointer', 'namedSub': {'width': {'id': '64'}}, 'sub': [{'id': 'signedbv', 'namedSub': {'#c_type': {'id': 'char'}, 'width': {'id': '8'}}}]}]}}, 'sub': [{'id': 'index', 'namedSub': {'#source_location': {'id': '', 'namedSub': {'pragma': {'id': '', 'namedSub': {'disable:bounds-check': {'id': ''}}}}}, 'type': {'id': 'pointer', 'namedSub': {'width': {'id': '64'}}, 'sub': [{'id': 'signedbv', 'namedSub': {'#c_type': {'id': 'char'}, 'width': {'id': '8'}}}]}}, 'sub': [{'id': 'symbol', 'namedSub': {'identifier': {'id': \"argv'\"}, 'type': {'id': 'array', 'namedSub': {'size': {'id': '+', 'namedSub': {'type': {'id': 'signedbv', 'namedSub': {'#c_type': {'id': 'signed_int'}, 'width': {'id': '32'}}}}, 'sub': [{'id': 'symbol', 'namedSub': {'identifier': {'id': \"argc'\"}, 'type': {'id': 'signedbv', 'namedSub': {'#c_type': {'id': 'signed_int'}, 'width': {'id': '32'}}}}}, {'id': 'constant', 'namedSub': {'type': {'id': 'signedbv', 'namedSub': {'#c_type': {'id': 'signed_int'}, 'width': {'id': '32'}}}, 'value': {'id': '1'}}}]}}, 'sub': [{'id': 'pointer', 'namedSub': {'width': {'id': '64'}}, 'sub': [{'id': 'signedbv', 'namedSub': {'#c_type': {'id': 'char'}, 'width': {'id': '8'}}}]}]}}}, {'id': 'constant', 'namedSub': {'type': {'id': 'signedbv', 'namedSub': {'#c_type': {'id': 'signed_long_int'}, 'width': {'id': '64'}}}, 'value': {'id': '0'}}}]}]}]}]}, {'id': 'code', 'namedSub': {'#source_location': {'id': '', 'namedSub': {'file': {'id': '/tmp/tmphjpklzbz.c'}, 'function': {'id': ''}, 'line': {'id': '2'}, 'working_directory': {'id': '/home/philip/Documents/python/pybmc'}}}, 'statement': {'id': 'output'}, 'type': {'id': 'empty'}}, 'sub': [{'id': 'address_of', 'namedSub': {'type': {'id': 'pointer', 'namedSub': {'width': {'id': '64'}}, 'sub': [{'id': 'signedbv', 'namedSub': {'#c_type': {'id': 'char'}, 'width': {'id': '8'}}}]}}, 'sub': [{'id': 'index', 'namedSub': {'type': {'id': 'signedbv', 'namedSub': {'#c_type': {'id': 'char'}, 'width': {'id': '8'}}}}, 'sub': [{'id': 'string_constant', 'namedSub': {'type': {'id': 'array', 'namedSub': {'size': {'id': 'constant', 'namedSub': {'type': {'id': 'signedbv', 'namedSub': {'#c_type': {'id': 'signed_long_int'}, 'width': {'id': '64'}}}, 'value': {'id': '8'}}}}, 'sub': [{'id': 'signedbv', 'namedSub': {'#c_type': {'id': 'char'}, 'width': {'id': '8'}}}]}, 'value': {'id': \"return'\"}}}, {'id': 'constant', 'namedSub': {'type': {'id': 'signedbv', 'namedSub': {'#c_type': {'id': 'signed_long_int'}, 'width': {'id': '64'}}}, 'value': {'id': '0'}}}]}]}, {'id': 'symbol', 'namedSub': {'identifier': {'id': \"return'\"}, 'type': {'id': 'signedbv', 'namedSub': {'#c_type': {'id': 'signed_int'}, 'width': {'id': '32'}}}}}]}]}, contract=None, baseName='__CPROVER__start', prettyName='', prettyType='void (void)', prettyValue='{\\n\\n__CPROVER_HIDE:\\n  ;\\n  __CPROVER_initialize();\\n  __CPROVER_assume(argc\\' >= 0);\\n  INPUT(\"argc\", argc\\');\\n  /* disable:bounds-check */\\n  argv\\'[(signed long int)argc\\'] = ((char *)NULL);\\n  return\\'=main(argc\\', argv\\');\\n  OUTPUT(\"return\\'\", return\\');\\n}', module='', mode='C', isExported=False, isInput=False, isMacro=False, isOutput=False, isProperty=False, isStateVar=False, isType=False, isAuxiliary=False, isExtern=False, isFileLocal=False, isLvalue=False, isParameter=False, isStaticLifetime=False, isThreadLocal=False, isVolatile=False, isWeak=False, isStaticConst=False)"
      ]
     },
     "execution_count": 1,
     "metadata": {},
     "output_type": "execute_result"
    }
   ],
   "source": [
    "import pybmc\n",
    "import pytest\n",
    "import subprocess\n",
    "\n",
    "example1 = \"\"\"\n",
    "int main(int argc, char *argv[]) {\n",
    "  int arr[] = {0, 1, 2, 3};\n",
    "  __CPROVER_assert(arr[3] != 3, \"expected failure: arr[3] == 3\");\n",
    "}\n",
    "\"\"\"\n",
    "\n",
    "\n",
    "js = pybmc.symtab_of_C(example1.encode())\n",
    "sym1 = list(js.values())[0]\n",
    "\n",
    "import dataclasses\n",
    "import pybmc.symbol\n",
    "pybmc.symbol.Symbol(**sym1)\n",
    "#dataclasses.make_dataclass(pybmc.symbol.Symbol, sym1)\n"
   ]
  }
 ],
 "metadata": {
  "kernelspec": {
   "display_name": ".venv",
   "language": "python",
   "name": "python3"
  },
  "language_info": {
   "codemirror_mode": {
    "name": "ipython",
    "version": 3
   },
   "file_extension": ".py",
   "mimetype": "text/x-python",
   "name": "python",
   "nbconvert_exporter": "python",
   "pygments_lexer": "ipython3",
   "version": "3.12.3"
  }
 },
 "nbformat": 4,
 "nbformat_minor": 2
}
